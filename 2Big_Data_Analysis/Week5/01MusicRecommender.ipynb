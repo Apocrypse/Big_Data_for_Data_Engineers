{
 "cells": [
  {
   "cell_type": "code",
   "execution_count": 1,
   "metadata": {},
   "outputs": [
    {
     "name": "stdout",
     "output_type": "stream",
     "text": [
      "Welcome to\n",
      "      ____              __\n",
      "     / __/__  ___ _____/ /__\n",
      "    _\\ \\/ _ \\/ _ `/ __/  '_/\n",
      "   /__ / .__/\\_,_/_/ /_/\\_\\   version 2.1.1\n",
      "      /_/\n",
      "\n",
      "Using Python version 2.7.12 (default, Nov 19 2016 06:48:10)\n",
      "SparkSession available as 'spark'.\n"
     ]
    }
   ],
   "source": [
    "import os\n",
    "execfile(os.path.join(os.environ[\"SPARK_HOME\"], 'python/pyspark/shell.py'))"
   ]
  },
  {
   "cell_type": "code",
   "execution_count": 2,
   "metadata": {},
   "outputs": [],
   "source": [
    "from pyspark.sql import SparkSession\n",
    "sparkSession = SparkSession.builder.enableHiveSupport().master(\"local[*]\").getOrCreate()"
   ]
  },
  {
   "cell_type": "code",
   "execution_count": 3,
   "metadata": {},
   "outputs": [],
   "source": [
    "from pyspark.sql import functions as f\n",
    "from pyspark.sql import Window"
   ]
  },
  {
   "cell_type": "code",
   "execution_count": 4,
   "metadata": {},
   "outputs": [],
   "source": [
    "data = sparkSession.read.parquet(\"/data/sample264\")"
   ]
  },
  {
   "cell_type": "code",
   "execution_count": 5,
   "metadata": {},
   "outputs": [
    {
     "data": {
      "text/plain": [
       "[Row(userId=13065, trackId=944906, artistId=978428, timestamp=1501588527),\n",
       " Row(userId=101897, trackId=799685, artistId=989262, timestamp=1501555608),\n",
       " Row(userId=215049, trackId=871513, artistId=988199, timestamp=1501604269),\n",
       " Row(userId=309769, trackId=857670, artistId=987809, timestamp=1501540265),\n",
       " Row(userId=397833, trackId=903510, artistId=994595, timestamp=1501597615),\n",
       " Row(userId=501769, trackId=818149, artistId=994975, timestamp=1501577955),\n",
       " Row(userId=601353, trackId=958990, artistId=973098, timestamp=1501602467),\n",
       " Row(userId=710921, trackId=916226, artistId=972031, timestamp=1501611582),\n",
       " Row(userId=6743, trackId=801006, artistId=994339, timestamp=1501584964),\n",
       " Row(userId=152407, trackId=913509, artistId=994334, timestamp=1501571055)]"
      ]
     },
     "execution_count": 5,
     "metadata": {},
     "output_type": "execute_result"
    }
   ],
   "source": [
    "data.take(10)"
   ]
  },
  {
   "cell_type": "code",
   "execution_count": 6,
   "metadata": {},
   "outputs": [],
   "source": [
    "tracks = data.alias('df1').join(data.alias('df2'), 'userId') \\\n",
    "    .withColumn('diff', f.abs(f.col('df1.timestamp') - f.col('df2.timestamp'))) \\\n",
    "    .where((f.col('diff') < 420) & (f.col('df1.trackId') != f.col('df2.trackId'))) \\\n",
    "    .select(f.col('df1.trackId').alias('id1'), f.col('df2.trackId').alias('id2')) \\\n",
    "    .withColumn('array', f.array(f.col('id1'), f.col('id2'))) \\\n",
    "    .select(f.sort_array('array', asc=True).alias('array')) \\\n",
    "    .withColumn('id1', f.col('array')[0]) \\\n",
    "    .withColumn('id2', f.col('array')[1]) \\\n",
    "    .select('id1', 'id2') \\\n",
    "    .groupBy(f.col('id1'), f.col('id2')).count()"
   ]
  },
  {
   "cell_type": "code",
   "execution_count": 7,
   "metadata": {},
   "outputs": [
    {
     "data": {
      "text/plain": [
       "[Row(id1=802640, id2=953737, count=32),\n",
       " Row(id1=874523, id2=900026, count=2),\n",
       " Row(id1=812616, id2=834204, count=2),\n",
       " Row(id1=891623, id2=927170, count=30),\n",
       " Row(id1=905671, id2=953850, count=4),\n",
       " Row(id1=930224, id2=933768, count=94),\n",
       " Row(id1=800288, id2=944500, count=2),\n",
       " Row(id1=814652, id2=884527, count=2),\n",
       " Row(id1=857076, id2=858940, count=2),\n",
       " Row(id1=889722, id2=899439, count=6)]"
      ]
     },
     "execution_count": 7,
     "metadata": {},
     "output_type": "execute_result"
    }
   ],
   "source": [
    "tracks.take(10)"
   ]
  },
  {
   "cell_type": "code",
   "execution_count": 8,
   "metadata": {},
   "outputs": [],
   "source": [
    "def norm(df, key1, key2, field, n): \n",
    "    \n",
    "    window = Window.partitionBy(key1).orderBy(f.col(field).desc())\n",
    "        \n",
    "    topsDF = df.withColumn(\"row_number\", f.row_number().over(window)) \\\n",
    "        .filter(f.col(\"row_number\") <= n) \\\n",
    "        .drop(f.col(\"row_number\")) \n",
    "        \n",
    "    tmpDF = topsDF.groupBy(f.col(key1)).agg(f.col(key1), f.sum(f.col(field)).alias(\"sum_\" + field))\n",
    "   \n",
    "    normalizedDF = topsDF.join(tmpDF, key1, \"inner\") \\\n",
    "        .withColumn(\"norm_\" + field, f.col(field) / f.col(\"sum_\" + field)) \\\n",
    "        .cache()\n",
    "\n",
    "    return normalizedDF"
   ]
  },
  {
   "cell_type": "code",
   "execution_count": 9,
   "metadata": {},
   "outputs": [],
   "source": [
    "tracksNorm = norm(tracks, \"id1\", \"id2\", \"count\", 40) \\\n",
    "        .select('id1', 'id2', 'norm_count')"
   ]
  },
  {
   "cell_type": "code",
   "execution_count": 10,
   "metadata": {},
   "outputs": [
    {
     "data": {
      "text/plain": [
       "[Row(id1=798477, id2=883244, norm_count=1.0),\n",
       " Row(id1=798692, id2=898823, norm_count=1.0),\n",
       " Row(id1=800467, id2=855206, norm_count=1.0),\n",
       " Row(id1=801701, id2=920990, norm_count=1.0),\n",
       " Row(id1=802599, id2=908754, norm_count=0.03571428571428571),\n",
       " Row(id1=802599, id2=937714, norm_count=0.03571428571428571),\n",
       " Row(id1=802599, id2=811513, norm_count=0.03571428571428571),\n",
       " Row(id1=802599, id2=929402, norm_count=0.03571428571428571),\n",
       " Row(id1=802599, id2=924227, norm_count=0.03571428571428571),\n",
       " Row(id1=802599, id2=901687, norm_count=0.03571428571428571),\n",
       " Row(id1=802599, id2=860294, norm_count=0.03571428571428571),\n",
       " Row(id1=802599, id2=880642, norm_count=0.03571428571428571),\n",
       " Row(id1=802599, id2=920627, norm_count=0.03571428571428571),\n",
       " Row(id1=802599, id2=843219, norm_count=0.03571428571428571),\n",
       " Row(id1=802599, id2=892457, norm_count=0.03571428571428571),\n",
       " Row(id1=802599, id2=823001, norm_count=0.03571428571428571),\n",
       " Row(id1=802599, id2=899859, norm_count=0.03571428571428571),\n",
       " Row(id1=802599, id2=866435, norm_count=0.03571428571428571),\n",
       " Row(id1=802599, id2=881358, norm_count=0.03571428571428571),\n",
       " Row(id1=802599, id2=901328, norm_count=0.03571428571428571),\n",
       " Row(id1=802599, id2=955459, norm_count=0.03571428571428571),\n",
       " Row(id1=802599, id2=949099, norm_count=0.03571428571428571),\n",
       " Row(id1=802599, id2=813969, norm_count=0.03571428571428571),\n",
       " Row(id1=802599, id2=852638, norm_count=0.03571428571428571),\n",
       " Row(id1=802599, id2=817399, norm_count=0.03571428571428571),\n",
       " Row(id1=802599, id2=960498, norm_count=0.03571428571428571),\n",
       " Row(id1=802599, id2=894214, norm_count=0.03571428571428571),\n",
       " Row(id1=802599, id2=814352, norm_count=0.03571428571428571),\n",
       " Row(id1=802599, id2=909544, norm_count=0.03571428571428571),\n",
       " Row(id1=802599, id2=860406, norm_count=0.03571428571428571)]"
      ]
     },
     "execution_count": 10,
     "metadata": {},
     "output_type": "execute_result"
    }
   ],
   "source": [
    "tracksNorm.take(30)"
   ]
  },
  {
   "cell_type": "code",
   "execution_count": 11,
   "metadata": {},
   "outputs": [],
   "source": [
    "window = Window.orderBy(f.col(\"norm_count\"))\n",
    "    \n",
    "TrackList = tracksNorm.withColumn(\"position\", f.rank().over(window))\\\n",
    "    .filter(f.col(\"position\") < 50)\\\n",
    "    .orderBy(f.col(\"id1\"), f.col(\"id2\"))\\\n",
    "    .select('id1', 'id2')\\\n",
    "    .take(40)"
   ]
  },
  {
   "cell_type": "code",
   "execution_count": 12,
   "metadata": {},
   "outputs": [
    {
     "name": "stdout",
     "output_type": "stream",
     "text": [
      "805688 806854\n",
      "805688 823746\n",
      "805688 836340\n",
      "805688 854090\n",
      "805688 899991\n",
      "805688 901935\n",
      "805688 904206\n",
      "805688 933768\n",
      "805688 947087\n",
      "821288 823531\n",
      "821288 824065\n",
      "821288 824301\n",
      "821288 829307\n",
      "821288 831005\n",
      "821288 843100\n",
      "821288 846529\n",
      "821288 854531\n",
      "821288 858618\n",
      "821288 860342\n",
      "821288 868259\n",
      "821288 874329\n",
      "821288 878313\n",
      "821288 895464\n",
      "821288 905479\n",
      "821288 909000\n",
      "821288 909165\n",
      "821288 913122\n",
      "821288 934081\n",
      "821288 940362\n",
      "821288 940574\n",
      "821288 944451\n",
      "821288 947260\n",
      "821288 952128\n",
      "821288 963117\n",
      "821288 966527\n",
      "854531 855221\n",
      "854531 872475\n",
      "854531 878313\n",
      "854531 891839\n",
      "854531 893868\n"
     ]
    }
   ],
   "source": [
    "for val in TrackList:\n",
    "    print \"%s %s\" % val"
   ]
  }
 ],
 "metadata": {
  "kernelspec": {
   "display_name": "Python 2",
   "language": "python",
   "name": "python2"
  },
  "language_info": {
   "codemirror_mode": {
    "name": "ipython",
    "version": 2
   },
   "file_extension": ".py",
   "mimetype": "text/x-python",
   "name": "python",
   "nbconvert_exporter": "python",
   "pygments_lexer": "ipython2",
   "version": "2.7.12"
  }
 },
 "nbformat": 4,
 "nbformat_minor": 2
}
