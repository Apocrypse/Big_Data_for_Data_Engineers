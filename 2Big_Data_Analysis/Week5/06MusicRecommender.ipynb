{
 "cells": [
  {
   "cell_type": "markdown",
   "metadata": {},
   "source": [
    "# Set up"
   ]
  },
  {
   "cell_type": "code",
   "execution_count": 1,
   "metadata": {},
   "outputs": [
    {
     "name": "stdout",
     "output_type": "stream",
     "text": [
      "Welcome to\n",
      "      ____              __\n",
      "     / __/__  ___ _____/ /__\n",
      "    _\\ \\/ _ \\/ _ `/ __/  '_/\n",
      "   /__ / .__/\\_,_/_/ /_/\\_\\   version 2.1.1\n",
      "      /_/\n",
      "\n",
      "Using Python version 2.7.12 (default, Nov 19 2016 06:48:10)\n",
      "SparkSession available as 'spark'.\n"
     ]
    }
   ],
   "source": [
    "import os\n",
    "execfile(os.path.join(os.environ[\"SPARK_HOME\"], 'python/pyspark/shell.py'))"
   ]
  },
  {
   "cell_type": "code",
   "execution_count": 2,
   "metadata": {},
   "outputs": [],
   "source": [
    "from pyspark.sql import SparkSession\n",
    "sparkSession = SparkSession.builder.enableHiveSupport().master(\"local[*]\").getOrCreate()"
   ]
  },
  {
   "cell_type": "code",
   "execution_count": 3,
   "metadata": {},
   "outputs": [],
   "source": [
    "from pyspark.sql import functions as f\n",
    "from pyspark.sql import Window"
   ]
  },
  {
   "cell_type": "markdown",
   "metadata": {},
   "source": [
    "# Load data"
   ]
  },
  {
   "cell_type": "code",
   "execution_count": 4,
   "metadata": {},
   "outputs": [],
   "source": [
    "data = sparkSession.read.parquet(\"/data/sample264\")\n",
    "meta = sparkSession.read.parquet(\"/data/meta\")"
   ]
  },
  {
   "cell_type": "code",
   "execution_count": 5,
   "metadata": {},
   "outputs": [
    {
     "name": "stdout",
     "output_type": "stream",
     "text": [
      "+------+-------+--------+----------+\n",
      "|userId|trackId|artistId| timestamp|\n",
      "+------+-------+--------+----------+\n",
      "| 13065| 944906|  978428|1501588527|\n",
      "|101897| 799685|  989262|1501555608|\n",
      "|215049| 871513|  988199|1501604269|\n",
      "|309769| 857670|  987809|1501540265|\n",
      "|397833| 903510|  994595|1501597615|\n",
      "|501769| 818149|  994975|1501577955|\n",
      "|601353| 958990|  973098|1501602467|\n",
      "|710921| 916226|  972031|1501611582|\n",
      "|  6743| 801006|  994339|1501584964|\n",
      "|152407| 913509|  994334|1501571055|\n",
      "+------+-------+--------+----------+\n",
      "only showing top 10 rows\n",
      "\n"
     ]
    }
   ],
   "source": [
    "data.show(10)"
   ]
  },
  {
   "cell_type": "code",
   "execution_count": 6,
   "metadata": {},
   "outputs": [
    {
     "name": "stdout",
     "output_type": "stream",
     "text": [
      "+------+--------------------+--------------------+-------+\n",
      "|  type|                Name|              Artist|     Id|\n",
      "+------+--------------------+--------------------+-------+\n",
      "| track|               Smile| Artist: Josh Groban|1223851|\n",
      "| track|Chuni Ashkharhe Q...|Artist: Razmik Amyan|1215486|\n",
      "| track|           Dark City|Artist: Machinae ...|1296462|\n",
      "| track|       Not Sensitive|        Artist: Moby|1249694|\n",
      "|artist|Artist: Carlos Pu...|Artist: Carlos Pu...|1352221|\n",
      "| track|Thiz Gangsta Chit...|Artist: Tha Dogg ...|1217194|\n",
      "| track|            Ruffneck|    Artist: Skrillex|1245681|\n",
      "| track|              Incerc|       Artist: Spike|1193283|\n",
      "|artist|Artist: Wallenber...|Artist: Wallenber...|1333444|\n",
      "| track|               remix|    Artist: Flo Rida|1246378|\n",
      "+------+--------------------+--------------------+-------+\n",
      "only showing top 10 rows\n",
      "\n"
     ]
    }
   ],
   "source": [
    "meta.show(10)"
   ]
  },
  {
   "cell_type": "code",
   "execution_count": 7,
   "metadata": {},
   "outputs": [
    {
     "data": {
      "text/plain": [
       "<Row(type, Id, Name, Artist, Score)>"
      ]
     },
     "execution_count": 7,
     "metadata": {},
     "output_type": "execute_result"
    }
   ],
   "source": [
    "from pyspark.sql import Row\n",
    "r = user = Row(\n",
    "    'type',\n",
    "    'Id',\n",
    "    'Name',\n",
    "    'Artist',\n",
    "    'Score'\n",
    ")\n",
    "r"
   ]
  },
  {
   "cell_type": "code",
   "execution_count": 8,
   "metadata": {},
   "outputs": [
    {
     "name": "stderr",
     "output_type": "stream",
     "text": [
      "/usr/local/spark/python/pyspark/sql/session.py:320: UserWarning: inferring schema from dict is deprecated,please use pyspark.sql.Row instead\n",
      "  warnings.warn(\"inferring schema from dict is deprecated,\"\n"
     ]
    }
   ],
   "source": [
    "user = {\n",
    "    'type': 'user',\n",
    "    'Id': 776748,\n",
    "    'Name': 'User',\n",
    "    'Artist': 'User',\n",
    "    'Score': 1\n",
    "}\n",
    "user = r(user)\n",
    "user = spark.createDataFrame(user) \\\n",
    "    .select('type', 'Id', 'Name', 'Artist', 'Score')"
   ]
  },
  {
   "cell_type": "code",
   "execution_count": 9,
   "metadata": {},
   "outputs": [
    {
     "name": "stdout",
     "output_type": "stream",
     "text": [
      "+----+------+----+------+-----+\n",
      "|type|    Id|Name|Artist|Score|\n",
      "+----+------+----+------+-----+\n",
      "|user|776748|User|  User|    1|\n",
      "+----+------+----+------+-----+\n",
      "\n"
     ]
    }
   ],
   "source": [
    "user.show(1)"
   ]
  },
  {
   "cell_type": "code",
   "execution_count": 10,
   "metadata": {},
   "outputs": [],
   "source": [
    "templet = meta.select('type', 'Id')\n",
    "user2 = user.select('type', 'Id')\n",
    "templet = user2.union(templet).orderBy('Id')"
   ]
  },
  {
   "cell_type": "code",
   "execution_count": 11,
   "metadata": {},
   "outputs": [
    {
     "name": "stdout",
     "output_type": "stream",
     "text": [
      "+-----+-------+\n",
      "| type|     Id|\n",
      "+-----+-------+\n",
      "| user| 776748|\n",
      "|track|1145999|\n",
      "|track|1146003|\n",
      "|track|1146005|\n",
      "|track|1146007|\n",
      "|track|1146009|\n",
      "|track|1146010|\n",
      "|track|1146011|\n",
      "|track|1146012|\n",
      "|track|1146014|\n",
      "+-----+-------+\n",
      "only showing top 10 rows\n",
      "\n"
     ]
    }
   ],
   "source": [
    "templet.show(10)"
   ]
  },
  {
   "cell_type": "markdown",
   "metadata": {},
   "source": [
    "#  Top-40 vertices"
   ]
  },
  {
   "cell_type": "code",
   "execution_count": 12,
   "metadata": {},
   "outputs": [],
   "source": [
    "findArtists = data.join(meta, data.artistId == meta.Id) \\\n",
    "    .where((f.col('userId') == 776748) & (f.col('type') == u'artist')) \\\n",
    "    .select('Artist', 'Name', 'type', 'Id').distinct()"
   ]
  },
  {
   "cell_type": "code",
   "execution_count": 13,
   "metadata": {},
   "outputs": [
    {
     "name": "stdout",
     "output_type": "stream",
     "text": [
      "+--------------------+--------------------+------+-------+\n",
      "|              Artist|                Name|  type|     Id|\n",
      "+--------------------+--------------------+------+-------+\n",
      "|        Artist: Korn|        Artist: Korn|artist|1361795|\n",
      "|Artist: 3 Doors Down|Artist: 3 Doors Down|artist|1363546|\n",
      "|   Artist: Disturbed|   Artist: Disturbed|artist|1360803|\n",
      "|  Artist: Clawfinger|  Artist: Clawfinger|artist|1343667|\n",
      "|Artist: Thousand ...|Artist: Thousand ...|artist|1341337|\n",
      "|Artist: Serj Tankian|Artist: Serj Tankian|artist|1331090|\n",
      "|Artist: Three Day...|Artist: Three Day...|artist|1348237|\n",
      "|  Artist: Papa Roach|  Artist: Papa Roach|artist|1350632|\n",
      "|    Artist: Iggy Pop|    Artist: Iggy Pop|artist|1347764|\n",
      "|Artist: Rise Against|Artist: Rise Against|artist|1337033|\n",
      "+--------------------+--------------------+------+-------+\n",
      "only showing top 10 rows\n",
      "\n"
     ]
    }
   ],
   "source": [
    "findArtists.show(10)"
   ]
  },
  {
   "cell_type": "code",
   "execution_count": 14,
   "metadata": {},
   "outputs": [],
   "source": [
    "findTracks = data.join(meta, data.trackId == meta.Id) \\\n",
    "    .where((f.col('userId') == 776748) & (f.col('type') == u'track')) \\\n",
    "    .select('Artist', 'Name', 'type', 'Id').distinct()"
   ]
  },
  {
   "cell_type": "code",
   "execution_count": 15,
   "metadata": {},
   "outputs": [
    {
     "name": "stdout",
     "output_type": "stream",
     "text": [
      "+--------------------+--------------------+-----+-------+\n",
      "|              Artist|                Name| type|     Id|\n",
      "+--------------------+--------------------+-----+-------+\n",
      "|   Artist: Green Day|             21 Guns|track|1299891|\n",
      "|Artist: The Offsp...|   Come Out and Play|track|1238423|\n",
      "|        Artist: Nomy|             Cocaine|track|1294015|\n",
      "|  Artist: Papa Roach|Getting Away With...|track|1310723|\n",
      "|Artist: Three Day...|I Hate Everything...|track|1322142|\n",
      "|  Artist: Nickelback|     She Keeps Me Up|track|1246253|\n",
      "|        Artist: Korn|        Here To Stay|track|1220928|\n",
      "|        Artist: Blur|      Girls and Boys|track|1290141|\n",
      "|  Artist: Clawfinger|    Nothing Going On|track|1197701|\n",
      "|         Artist: 311|  Beautiful disaster|track|1200833|\n",
      "+--------------------+--------------------+-----+-------+\n",
      "only showing top 10 rows\n",
      "\n"
     ]
    }
   ],
   "source": [
    "findTracks.show(10)"
   ]
  },
  {
   "cell_type": "code",
   "execution_count": 16,
   "metadata": {},
   "outputs": [],
   "source": [
    "findAll = findArtists.union(findTracks) \\\n",
    "    .orderBy('Artist', 'type', 'Name') \\\n",
    "    .select('type', 'Id') \\\n",
    "    .take(40)\n",
    "findAll = spark.createDataFrame(findAll) \\\n",
    "    .withColumn('Score', f.lit(1))"
   ]
  },
  {
   "cell_type": "code",
   "execution_count": 17,
   "metadata": {},
   "outputs": [
    {
     "name": "stdout",
     "output_type": "stream",
     "text": [
      "+------+-------+-----+\n",
      "|  type|     Id|Score|\n",
      "+------+-------+-----+\n",
      "|artist|1363546|    1|\n",
      "| track|1273367|    1|\n",
      "|artist|1336647|    1|\n",
      "| track|1200833|    1|\n",
      "|artist|1355952|    1|\n",
      "| track|1290141|    1|\n",
      "|artist|1343667|    1|\n",
      "| track|1197701|    1|\n",
      "|artist|1360803|    1|\n",
      "| track|1180278|    1|\n",
      "+------+-------+-----+\n",
      "only showing top 10 rows\n",
      "\n"
     ]
    }
   ],
   "source": [
    "findAll.show(10)"
   ]
  },
  {
   "cell_type": "markdown",
   "metadata": {},
   "source": [
    "# Initialize coordinates of vector"
   ]
  },
  {
   "cell_type": "code",
   "execution_count": 18,
   "metadata": {},
   "outputs": [],
   "source": [
    "x = meta.join(findAll, ['type', 'Id'], 'left') \\\n",
    "    .select('type', 'Id', 'Name', 'Artist', 'Score') \\\n",
    "    .fillna(0)\n",
    "x = user.union(x).orderBy('Id')"
   ]
  },
  {
   "cell_type": "code",
   "execution_count": 19,
   "metadata": {
    "scrolled": true
   },
   "outputs": [
    {
     "name": "stdout",
     "output_type": "stream",
     "text": [
      "+-----+-------+-----------------+--------------------+-----+\n",
      "| type|     Id|             Name|              Artist|Score|\n",
      "+-----+-------+-----------------+--------------------+-----+\n",
      "| user| 776748|             User|                User|    1|\n",
      "|track|1145999|Give Me Some More|Artist: Candy Dulfer|    0|\n",
      "|track|1146003|  Still loven you|   Artist: Scorpions|    0|\n",
      "|track|1146005|             Spez|     Artist: Stromae|    0|\n",
      "|track|1146007| Pachelbels Canon|Artist: David Gar...|    0|\n",
      "|track|1146009|              erg|         Artist: DEV|    0|\n",
      "|track|1146010|        Be Lonely|Artist: Mario Biondi|    0|\n",
      "|track|1146011|      Turn Around|    Artist: Flo Rida|    0|\n",
      "|track|1146012|  Kampf der Liebe| Artist: Tokio Hotel|    0|\n",
      "|track|1146014|          Joyride|     Artist: Roxette|    0|\n",
      "+-----+-------+-----------------+--------------------+-----+\n",
      "only showing top 10 rows\n",
      "\n"
     ]
    }
   ],
   "source": [
    "x.show(10)"
   ]
  },
  {
   "cell_type": "code",
   "execution_count": 20,
   "metadata": {},
   "outputs": [],
   "source": [
    "check = x.where(f.col('Id') == 1361795)"
   ]
  },
  {
   "cell_type": "code",
   "execution_count": 21,
   "metadata": {},
   "outputs": [
    {
     "name": "stdout",
     "output_type": "stream",
     "text": [
      "+------+-------+------------+------------+-----+\n",
      "|  type|     Id|        Name|      Artist|Score|\n",
      "+------+-------+------------+------------+-----+\n",
      "|artist|1361795|Artist: Korn|Artist: Korn|    1|\n",
      "+------+-------+------------+------------+-----+\n",
      "\n"
     ]
    }
   ],
   "source": [
    "check.show(1)"
   ]
  },
  {
   "cell_type": "markdown",
   "metadata": {},
   "source": [
    "# Define norm fuction"
   ]
  },
  {
   "cell_type": "code",
   "execution_count": 22,
   "metadata": {},
   "outputs": [],
   "source": [
    "def norm(df, key1, key2, field, n): \n",
    "    \n",
    "    window = Window.partitionBy(key1).orderBy(f.col(field).desc())\n",
    "        \n",
    "    topsDF = df.withColumn('row_number', f.row_number().over(window)) \\\n",
    "        .filter(f.col('row_number') <= n) \\\n",
    "        .drop(f.col('row_number')) \n",
    "        \n",
    "    tmpDF = topsDF.groupBy(f.col(key1)).agg(f.col(key1), f.sum(f.col(field)).alias('sum_' + field))\n",
    "   \n",
    "    normalizedDF = topsDF.join(tmpDF, key1, 'inner') \\\n",
    "        .withColumn('norm_' + field, f.col(field) / f.col('sum_' + field)) \\\n",
    "        .cache()\n",
    "\n",
    "    return normalizedDF"
   ]
  },
  {
   "cell_type": "markdown",
   "metadata": {},
   "source": [
    "# User-track edge"
   ]
  },
  {
   "cell_type": "code",
   "execution_count": 23,
   "metadata": {},
   "outputs": [],
   "source": [
    "userTrack = data.groupBy('userId', 'trackId').count()"
   ]
  },
  {
   "cell_type": "code",
   "execution_count": 24,
   "metadata": {},
   "outputs": [],
   "source": [
    "userTrackNorm = norm(userTrack, 'userId', 'trackId', 'count', 1000) \\\n",
    "    .select('userId', 'trackId', 'norm_count')"
   ]
  },
  {
   "cell_type": "code",
   "execution_count": 25,
   "metadata": {},
   "outputs": [
    {
     "name": "stdout",
     "output_type": "stream",
     "text": [
      "+------+-------+------------------+\n",
      "|userId|trackId|        norm_count|\n",
      "+------+-------+------------------+\n",
      "|  3175| 947718|0.1111111111111111|\n",
      "|  3175| 940951|0.1111111111111111|\n",
      "|  3175| 845631|0.1111111111111111|\n",
      "|  3175| 864690|0.1111111111111111|\n",
      "|  3175| 831005|0.1111111111111111|\n",
      "|  3175| 930432|0.1111111111111111|\n",
      "|  3175| 965012|0.1111111111111111|\n",
      "|  3175| 858940|0.1111111111111111|\n",
      "|  3175| 829307|0.1111111111111111|\n",
      "|  5518| 961148|               0.5|\n",
      "+------+-------+------------------+\n",
      "only showing top 10 rows\n",
      "\n"
     ]
    }
   ],
   "source": [
    "userTrackNorm.show(10)"
   ]
  },
  {
   "cell_type": "code",
   "execution_count": 26,
   "metadata": {},
   "outputs": [],
   "source": [
    "userTrackNext = userTrackNorm.select(f.col('trackId').alias('Id'), f.col('norm_count').alias('Next1')) \\\n",
    "    .where(f.col('userId') == 776748) \\\n",
    "    .withColumn('type', f.lit('track')) \\\n",
    "    .select('type', 'Id', 'Next1').cache()"
   ]
  },
  {
   "cell_type": "code",
   "execution_count": 27,
   "metadata": {},
   "outputs": [
    {
     "name": "stdout",
     "output_type": "stream",
     "text": [
      "+-----+-------+--------------------+\n",
      "| type|     Id|               Next1|\n",
      "+-----+-------+--------------------+\n",
      "|track|1226775|  0.1111111111111111|\n",
      "|track|1197701| 0.07407407407407407|\n",
      "|track|1238423| 0.07407407407407407|\n",
      "|track|1299891| 0.07407407407407407|\n",
      "|track|1225222|0.037037037037037035|\n",
      "|track|1176891|0.037037037037037035|\n",
      "|track|1220928|0.037037037037037035|\n",
      "|track|1310723|0.037037037037037035|\n",
      "|track|1179685|0.037037037037037035|\n",
      "|track|1294015|0.037037037037037035|\n",
      "+-----+-------+--------------------+\n",
      "only showing top 10 rows\n",
      "\n"
     ]
    }
   ],
   "source": [
    "userTrackNext.show(10)"
   ]
  },
  {
   "cell_type": "markdown",
   "metadata": {},
   "source": [
    "# User-artist edge"
   ]
  },
  {
   "cell_type": "code",
   "execution_count": 28,
   "metadata": {},
   "outputs": [],
   "source": [
    "userArtist = data.groupBy('userId', 'artistId').count()"
   ]
  },
  {
   "cell_type": "code",
   "execution_count": 29,
   "metadata": {},
   "outputs": [],
   "source": [
    "userArtistNorm = norm(userArtist, 'userId', 'artistId', 'count', 100) \\\n",
    "    .select('userId', 'artistId', 'norm_count')"
   ]
  },
  {
   "cell_type": "code",
   "execution_count": 30,
   "metadata": {},
   "outputs": [
    {
     "name": "stdout",
     "output_type": "stream",
     "text": [
      "+------+--------+------------------+\n",
      "|userId|artistId|        norm_count|\n",
      "+------+--------+------------------+\n",
      "|  3175|  981306|0.2222222222222222|\n",
      "|  3175|  995274|0.1111111111111111|\n",
      "|  3175|  986492|0.1111111111111111|\n",
      "|  3175|  976051|0.1111111111111111|\n",
      "|  3175| 1000709|0.1111111111111111|\n",
      "|  3175|  984798|0.1111111111111111|\n",
      "|  3175|  969751|0.1111111111111111|\n",
      "|  3175| 1000564|0.1111111111111111|\n",
      "|  5518|  978963|               0.5|\n",
      "|  5518|  984128|0.3333333333333333|\n",
      "+------+--------+------------------+\n",
      "only showing top 10 rows\n",
      "\n"
     ]
    }
   ],
   "source": [
    "userArtistNorm.show(10)"
   ]
  },
  {
   "cell_type": "code",
   "execution_count": 31,
   "metadata": {},
   "outputs": [],
   "source": [
    "userArtistNext = userArtistNorm.select(f.col('artistId').alias('Id'), f.col('norm_count').alias('Next2')) \\\n",
    "    .where(f.col('userId') == 776748) \\\n",
    "    .withColumn('type', f.lit('artist')) \\\n",
    "    .select('type', 'Id', 'Next2').cache()"
   ]
  },
  {
   "cell_type": "code",
   "execution_count": 32,
   "metadata": {},
   "outputs": [
    {
     "name": "stdout",
     "output_type": "stream",
     "text": [
      "+------+-------+--------------------+\n",
      "|  type|     Id|               Next2|\n",
      "+------+-------+--------------------+\n",
      "|artist|1358867| 0.18518518518518517|\n",
      "|artist|1343667| 0.07407407407407407|\n",
      "|artist|1358472| 0.07407407407407407|\n",
      "|artist|1330944| 0.07407407407407407|\n",
      "|artist|1331090|0.037037037037037035|\n",
      "|artist|1336647|0.037037037037037035|\n",
      "|artist|1337033|0.037037037037037035|\n",
      "|artist|1355952|0.037037037037037035|\n",
      "|artist|1359522|0.037037037037037035|\n",
      "|artist|1348237|0.037037037037037035|\n",
      "+------+-------+--------------------+\n",
      "only showing top 10 rows\n",
      "\n"
     ]
    }
   ],
   "source": [
    "userArtistNext.show(10)"
   ]
  },
  {
   "cell_type": "markdown",
   "metadata": {},
   "source": [
    "# Track-track edge"
   ]
  },
  {
   "cell_type": "code",
   "execution_count": 33,
   "metadata": {},
   "outputs": [],
   "source": [
    "trackTrack = data.alias('df1').join(data.alias('df2'), 'userId') \\\n",
    "    .withColumn('diff', f.abs(f.col('df1.timestamp') - f.col('df2.timestamp'))) \\\n",
    "    .where((f.col('diff') <= 420) & (f.col('df1.trackId') != f.col('df2.trackId'))) \\\n",
    "    .select(f.col('df1.trackId').alias('id1'), f.col('df2.trackId').alias('id2')) \\\n",
    "    .groupBy(f.col('id1'), f.col('id2')).count()"
   ]
  },
  {
   "cell_type": "code",
   "execution_count": 34,
   "metadata": {},
   "outputs": [],
   "source": [
    "trackTrackNorm = norm(trackTrack, 'id1', 'id2', 'count', 40) \\\n",
    "    .select('id1', 'id2', 'norm_count') \\\n",
    "    .orderBy('id1', 'id2')    "
   ]
  },
  {
   "cell_type": "code",
   "execution_count": 35,
   "metadata": {},
   "outputs": [
    {
     "name": "stdout",
     "output_type": "stream",
     "text": [
      "+------+------+----------+\n",
      "|   id1|   id2|norm_count|\n",
      "+------+------+----------+\n",
      "|798256|923706|       1.0|\n",
      "|798258|808254|       0.5|\n",
      "|798258|810685|       0.5|\n",
      "|798261|911939|       0.6|\n",
      "|798261|916840|       0.2|\n",
      "|798261|943188|       0.2|\n",
      "|798290|880442|       0.5|\n",
      "|798290|906999|       0.5|\n",
      "|798302|836228|       0.5|\n",
      "|798302|893311|       0.5|\n",
      "+------+------+----------+\n",
      "only showing top 10 rows\n",
      "\n"
     ]
    }
   ],
   "source": [
    "trackTrackNorm.show(10)"
   ]
  },
  {
   "cell_type": "code",
   "execution_count": 36,
   "metadata": {},
   "outputs": [],
   "source": [
    "def getTrackTrackNext(trackId, trackTrackNorm):\n",
    "    \n",
    "    trackTrackNext = trackTrackNorm.select(f.col('id2').alias('Id'), f.col('norm_count').alias('Next3')) \\\n",
    "        .where(f.col('id1') == trackId) \\\n",
    "        .withColumn('type', f.lit('track')) \\\n",
    "        .select('type', 'Id', 'Next3')\n",
    "        \n",
    "    return trackTrackNext"
   ]
  },
  {
   "cell_type": "code",
   "execution_count": 37,
   "metadata": {},
   "outputs": [
    {
     "name": "stdout",
     "output_type": "stream",
     "text": [
      "+-----+------+-----+\n",
      "| type|    Id|Next3|\n",
      "+-----+------+-----+\n",
      "|track|923706|  1.0|\n",
      "+-----+------+-----+\n",
      "\n"
     ]
    }
   ],
   "source": [
    "check = getTrackTrackNext(798256, trackTrackNorm)\n",
    "check.show(10)"
   ]
  },
  {
   "cell_type": "markdown",
   "metadata": {},
   "source": [
    "# Artist-track edge"
   ]
  },
  {
   "cell_type": "code",
   "execution_count": 38,
   "metadata": {},
   "outputs": [],
   "source": [
    "artistTrack = data.groupBy('artistId', 'trackId').count()"
   ]
  },
  {
   "cell_type": "code",
   "execution_count": 39,
   "metadata": {},
   "outputs": [],
   "source": [
    "artistTrackNorm = norm(artistTrack, 'artistId', 'trackId', 'count', 100) \\\n",
    "    .select('artistId', 'trackId', 'norm_count')"
   ]
  },
  {
   "cell_type": "code",
   "execution_count": 40,
   "metadata": {},
   "outputs": [
    {
     "name": "stdout",
     "output_type": "stream",
     "text": [
      "+--------+-------+-------------------+\n",
      "|artistId|trackId|         norm_count|\n",
      "+--------+-------+-------------------+\n",
      "|  968694| 827354|               0.25|\n",
      "|  968694| 820606|               0.25|\n",
      "|  968694| 897139|               0.25|\n",
      "|  968694| 925696|               0.25|\n",
      "|  969344| 933592|                1.0|\n",
      "|  969479| 959227|0.44166666666666665|\n",
      "|  969479| 819606|                0.2|\n",
      "|  969479| 929291|0.10833333333333334|\n",
      "|  969479| 798826|              0.075|\n",
      "|  969479| 890444|               0.05|\n",
      "+--------+-------+-------------------+\n",
      "only showing top 10 rows\n",
      "\n"
     ]
    }
   ],
   "source": [
    "artistTrackNorm.show(10)"
   ]
  },
  {
   "cell_type": "code",
   "execution_count": 41,
   "metadata": {},
   "outputs": [],
   "source": [
    "def getArtistTrackNext(artistId, trackTrackNorm):\n",
    "    \n",
    "    artistTrackNext = artistTrackNorm.select(f.col('trackId').alias('Id'), f.col('norm_count').alias('Next4')) \\\n",
    "        .where(f.col('artistId') == artistId) \\\n",
    "        .withColumn('type', f.lit('track')) \\\n",
    "        .select('type', 'Id', 'Next4')\n",
    "        \n",
    "    return artistTrackNext"
   ]
  },
  {
   "cell_type": "code",
   "execution_count": 42,
   "metadata": {},
   "outputs": [
    {
     "name": "stdout",
     "output_type": "stream",
     "text": [
      "+-----+------+-----+\n",
      "| type|    Id|Next4|\n",
      "+-----+------+-----+\n",
      "|track|827354| 0.25|\n",
      "|track|820606| 0.25|\n",
      "|track|897139| 0.25|\n",
      "|track|925696| 0.25|\n",
      "+-----+------+-----+\n",
      "\n"
     ]
    }
   ],
   "source": [
    "check = getArtistTrackNext(968694, trackTrackNorm)\n",
    "check.show(10)"
   ]
  },
  {
   "cell_type": "markdown",
   "metadata": {},
   "source": [
    "# Set parameters"
   ]
  },
  {
   "cell_type": "code",
   "execution_count": 43,
   "metadata": {},
   "outputs": [],
   "source": [
    "user3 = user.select('type', 'Id', 'score')\n",
    "u = meta.select('type', 'Id') \\\n",
    "    .withColumn('Score', f.lit(0))\n",
    "u = user3.union(u).orderBy('Id')"
   ]
  },
  {
   "cell_type": "code",
   "execution_count": 44,
   "metadata": {},
   "outputs": [
    {
     "name": "stdout",
     "output_type": "stream",
     "text": [
      "+-----+-------+-----+\n",
      "| type|     Id|score|\n",
      "+-----+-------+-----+\n",
      "| user| 776748|    1|\n",
      "|track|1145999|    0|\n",
      "|track|1146003|    0|\n",
      "|track|1146005|    0|\n",
      "|track|1146007|    0|\n",
      "|track|1146009|    0|\n",
      "|track|1146010|    0|\n",
      "|track|1146011|    0|\n",
      "|track|1146012|    0|\n",
      "|track|1146014|    0|\n",
      "+-----+-------+-----+\n",
      "only showing top 10 rows\n",
      "\n"
     ]
    }
   ],
   "source": [
    "u.show(10)"
   ]
  },
  {
   "cell_type": "code",
   "execution_count": 45,
   "metadata": {},
   "outputs": [],
   "source": [
    "alpha = 0.15"
   ]
  },
  {
   "cell_type": "code",
   "execution_count": 46,
   "metadata": {},
   "outputs": [],
   "source": [
    "beta = [0.5, 0.5, 1, 1]"
   ]
  },
  {
   "cell_type": "markdown",
   "metadata": {},
   "source": [
    "# Iterate"
   ]
  },
  {
   "cell_type": "code",
   "execution_count": null,
   "metadata": {},
   "outputs": [],
   "source": []
  }
 ],
 "metadata": {
  "kernelspec": {
   "display_name": "Python 2",
   "language": "python",
   "name": "python2"
  },
  "language_info": {
   "codemirror_mode": {
    "name": "ipython",
    "version": 2
   },
   "file_extension": ".py",
   "mimetype": "text/x-python",
   "name": "python",
   "nbconvert_exporter": "python",
   "pygments_lexer": "ipython2",
   "version": "2.7.12"
  }
 },
 "nbformat": 4,
 "nbformat_minor": 2
}
