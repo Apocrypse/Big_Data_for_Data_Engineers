{
 "cells": [
  {
   "cell_type": "code",
   "execution_count": 1,
   "metadata": {},
   "outputs": [
    {
     "name": "stdout",
     "output_type": "stream",
     "text": [
      "Welcome to\n",
      "      ____              __\n",
      "     / __/__  ___ _____/ /__\n",
      "    _\\ \\/ _ \\/ _ `/ __/  '_/\n",
      "   /__ / .__/\\_,_/_/ /_/\\_\\   version 2.1.1\n",
      "      /_/\n",
      "\n",
      "Using Python version 2.7.12 (default, Nov 19 2016 06:48:10)\n",
      "SparkSession available as 'spark'.\n"
     ]
    }
   ],
   "source": [
    "import os\n",
    "execfile(os.path.join(os.environ[\"SPARK_HOME\"], 'python/pyspark/shell.py'))"
   ]
  },
  {
   "cell_type": "code",
   "execution_count": 2,
   "metadata": {},
   "outputs": [],
   "source": [
    "from pyspark.sql import SparkSession\n",
    "sparkSession = SparkSession.builder.enableHiveSupport().master(\"local [*]\").getOrCreate()"
   ]
  },
  {
   "cell_type": "code",
   "execution_count": 3,
   "metadata": {},
   "outputs": [],
   "source": [
    "graphPath = \"/data/graphDFSample\""
   ]
  },
  {
   "cell_type": "code",
   "execution_count": 4,
   "metadata": {},
   "outputs": [],
   "source": [
    "from pyspark.sql import functions as f\n",
    "from pyspark.sql import Window\n",
    "\n",
    "reversedGraph = sparkSession.read.parquet(graphPath) \\\n",
    "    .withColumn('friend', f.explode('friends')) \\\n",
    "    .groupBy('friend') \\\n",
    "    .agg(f.collect_list('user').alias('users')) \\\n",
    "    .withColumn('users_size', f.size('users')) \\"
   ]
  },
  {
   "cell_type": "code",
   "execution_count": 5,
   "metadata": {},
   "outputs": [],
   "source": [
    "sortedUsers = reversedGraph.select('friend', f.sort_array('users', asc=True).alias('users')) \\\n",
    "    .where(\"users_size > 1\")"
   ]
  },
  {
   "cell_type": "code",
   "execution_count": 6,
   "metadata": {},
   "outputs": [
    {
     "name": "stdout",
     "output_type": "stream",
     "text": [
      "root\n",
      " |-- friend: integer (nullable = true)\n",
      " |-- users: array (nullable = true)\n",
      " |    |-- element: integer (containsNull = true)\n",
      "\n"
     ]
    },
    {
     "data": {
      "text/plain": [
       "[Row(friend=148, users=[3195315, 14631101, 14957568, 65051219]),\n",
       " Row(friend=36538, users=[5506394, 6170161, 6846874, 15305594, 17133226, 19016678, 20686207, 20689187, 22582764, 23057528, 27967558, 28135661, 29050446, 31111067, 35731241, 36375468, 38837335, 40003405, 41101961, 41660921, 42973992, 43548989, 44996025, 51969555, 53947972, 57354452, 60011356, 63305254, 63987222, 64553898, 64583713, 65275157]),\n",
       " Row(friend=41751, users=[41811068, 60873111]),\n",
       " Row(friend=49331, users=[45058971, 58571716]),\n",
       " Row(friend=73470, users=[37445156, 49852791])]"
      ]
     },
     "execution_count": 6,
     "metadata": {},
     "output_type": "execute_result"
    }
   ],
   "source": [
    "sortedUsers.printSchema()\n",
    "sortedUsers.take(5)"
   ]
  },
  {
   "cell_type": "code",
   "execution_count": 7,
   "metadata": {},
   "outputs": [
    {
     "data": {
      "text/plain": [
       "[Row(friend=41101436, users=[1059916, 2964434, 3042643, 6910864, 7567747, 9516374, 9587570, 19581766, 22024551, 23333155, 29990928, 33198759, 34161415, 35237648, 40442730, 50342783, 50969081, 55582051, 56499329, 58904084, 58968470, 63383096]),\n",
       " Row(friend=3178015, users=[41302247, 43792154]),\n",
       " Row(friend=10580502, users=[17796133, 19177997, 23140914, 32904168]),\n",
       " Row(friend=27471514, users=[39441759, 64823125]),\n",
       " Row(friend=52946228, users=[1713532, 42382154, 44385745, 54979070, 60182932]),\n",
       " Row(friend=22018979, users=[16851968, 48286812, 54979070]),\n",
       " Row(friend=21634931, users=[13585170, 22312953]),\n",
       " Row(friend=29710866, users=[31598959, 47356790, 49336362]),\n",
       " Row(friend=9738979, users=[20913342, 23020074]),\n",
       " Row(friend=44301430, users=[4241591, 6802654, 17265340, 19388348, 23803624, 29167651, 29793337, 30488705, 33793439, 37502021, 40312256, 42994572, 49405386, 53481502, 61979700]),\n",
       " Row(friend=61788306, users=[1245641, 6297261, 23644106, 40612643, 41913940, 47874744]),\n",
       " Row(friend=57559287, users=[38852763, 57435750]),\n",
       " Row(friend=52950468, users=[15552361, 17532951, 17570251, 28123677]),\n",
       " Row(friend=58244337, users=[3754400, 18976326, 28862355, 56890920]),\n",
       " Row(friend=7089148, users=[7121752, 8341174, 12324192, 40565174]),\n",
       " Row(friend=11561557, users=[5814686, 45077822]),\n",
       " Row(friend=55111868, users=[1868636, 1888586, 4533261, 4553212, 4579867, 6527351, 11718796, 15081969, 18032730, 18982695, 21553948, 22212402, 23667716, 24923155, 27027924, 32135913, 34188763, 34328297, 34844250, 34845699, 39370233, 40049421, 41406731, 44611507, 44646788, 45953351, 46587309, 48506598, 48550018, 49188101, 50755795, 52748187, 53200995, 55104047, 63051409, 63061378, 65735271]),\n",
       " Row(friend=37928741, users=[22299275, 35506293, 41198946, 49662674, 54373495, 64278494, 64823125]),\n",
       " Row(friend=32384052, users=[927283, 4158263, 60381056]),\n",
       " Row(friend=64768968, users=[14188303, 36479953, 42983379, 54212729, 64775726]),\n",
       " Row(friend=50185723, users=[2002446, 5409441, 44877939]),\n",
       " Row(friend=47356932, users=[1049214, 1192144, 29963370, 37850536, 51461671, 56361851, 63580644]),\n",
       " Row(friend=15596178, users=[6297261, 19045720]),\n",
       " Row(friend=14884792, users=[19997674, 28797737, 37766141]),\n",
       " Row(friend=43579987, users=[2180974, 2837877, 5386337]),\n",
       " Row(friend=27291517, users=[36763627, 43853071, 48165866]),\n",
       " Row(friend=15554261, users=[36471761, 51080344]),\n",
       " Row(friend=33800608, users=[34294638, 49479025]),\n",
       " Row(friend=6384933, users=[14672901, 44013138]),\n",
       " Row(friend=12425620, users=[41188131, 64245624]),\n",
       " Row(friend=59808573, users=[606217, 4603779, 6451610, 11093627, 19519642, 20891498, 44295901, 56187820, 64347473]),\n",
       " Row(friend=18799288, users=[4357304, 21165676, 39959900, 42099418, 48071456]),\n",
       " Row(friend=21619309, users=[13625676, 47823900]),\n",
       " Row(friend=8201929, users=[1527499, 17414723])]"
      ]
     },
     "execution_count": 7,
     "metadata": {},
     "output_type": "execute_result"
    }
   ],
   "source": [
    "sample = sortedUsers.sample(False, 0.00001)\n",
    "sample.collect()"
   ]
  },
  {
   "cell_type": "code",
   "execution_count": 8,
   "metadata": {},
   "outputs": [],
   "source": [
    "def genUserPair(users):\n",
    "    \n",
    "    pairs = []\n",
    "    n = len(users)\n",
    "    \n",
    "    for i in range(n):\n",
    "        for j in range(i+1, n):\n",
    "            pair = [users[i], users[j]]\n",
    "            pairs.append(pair)\n",
    "            \n",
    "    return pairs"
   ]
  },
  {
   "cell_type": "code",
   "execution_count": 9,
   "metadata": {},
   "outputs": [
    {
     "data": {
      "text/plain": [
       "[[3195315, 14631101],\n",
       " [3195315, 14957568],\n",
       " [3195315, 65051219],\n",
       " [14631101, 14957568],\n",
       " [14631101, 65051219],\n",
       " [14957568, 65051219]]"
      ]
     },
     "execution_count": 9,
     "metadata": {},
     "output_type": "execute_result"
    }
   ],
   "source": [
    "genUserPair([3195315, 14631101, 14957568, 65051219])"
   ]
  },
  {
   "cell_type": "code",
   "execution_count": 10,
   "metadata": {},
   "outputs": [],
   "source": [
    "from pyspark.sql import types as t\n",
    "genUserPair_udf = f.udf(genUserPair, t.ArrayType(t.ArrayType(t.IntegerType())))"
   ]
  },
  {
   "cell_type": "code",
   "execution_count": 11,
   "metadata": {},
   "outputs": [],
   "source": [
    "userPairs = sortedUsers.select('friend', genUserPair_udf('users').alias('pairs').alias('pairs')) \\\n",
    "    .withColumn('pair', f.explode('pairs')) \\\n",
    "    .withColumn('user1', f.col('pair')[0]) \\\n",
    "    .withColumn('user2', f.col('pair')[1]) \\\n",
    "    .select('friend', 'user1', 'user2')"
   ]
  },
  {
   "cell_type": "code",
   "execution_count": 12,
   "metadata": {},
   "outputs": [
    {
     "name": "stdout",
     "output_type": "stream",
     "text": [
      "root\n",
      " |-- friend: integer (nullable = true)\n",
      " |-- user1: integer (nullable = true)\n",
      " |-- user2: integer (nullable = true)\n",
      "\n"
     ]
    },
    {
     "data": {
      "text/plain": [
       "[Row(friend=148, user1=3195315, user2=14631101),\n",
       " Row(friend=148, user1=3195315, user2=14957568),\n",
       " Row(friend=148, user1=3195315, user2=65051219),\n",
       " Row(friend=148, user1=14631101, user2=14957568),\n",
       " Row(friend=148, user1=14631101, user2=65051219)]"
      ]
     },
     "execution_count": 12,
     "metadata": {},
     "output_type": "execute_result"
    }
   ],
   "source": [
    "userPairs.printSchema()\n",
    "userPairs.take(5)"
   ]
  },
  {
   "cell_type": "code",
   "execution_count": 13,
   "metadata": {},
   "outputs": [],
   "source": [
    "mutualFriends = userPairs.groupBy('user1', 'user2') \\\n",
    "    .agg(f.count('friend').alias('mutual_friends'))"
   ]
  },
  {
   "cell_type": "code",
   "execution_count": null,
   "metadata": {},
   "outputs": [
    {
     "name": "stdout",
     "output_type": "stream",
     "text": [
      "root\n",
      " |-- user1: integer (nullable = true)\n",
      " |-- user2: integer (nullable = true)\n",
      " |-- mutual_friends: long (nullable = false)\n",
      "\n"
     ]
    },
    {
     "data": {
      "text/plain": [
       "[Row(user1=19016678, user2=27967558, mutual_friends=25),\n",
       " Row(user1=35731241, user2=63987222, mutual_friends=1272),\n",
       " Row(user1=38837335, user2=60011356, mutual_friends=2),\n",
       " Row(user1=40003405, user2=41101961, mutual_friends=26),\n",
       " Row(user1=3274722, user2=37391049, mutual_friends=100)]"
      ]
     },
     "execution_count": 14,
     "metadata": {},
     "output_type": "execute_result"
    }
   ],
   "source": [
    "mutualFriends.printSchema()\n",
    "mutualFriends.take(5)"
   ]
  },
  {
   "cell_type": "code",
   "execution_count": null,
   "metadata": {},
   "outputs": [],
   "source": [
    "window = Window.orderBy(f.col('mutual_friends').desc())\n",
    "    \n",
    "top50 = mutualFriends.withColumn('row_number', f.row_number().over(window)) \\\n",
    "    .filter('row_number < 50') \\\n",
    "    .select('mutual_friends', 'user1', 'user2') \\\n",
    "    .orderBy(f.col('mutual_friends').desc()) \\\n",
    "    .collect()"
   ]
  },
  {
   "cell_type": "code",
   "execution_count": null,
   "metadata": {},
   "outputs": [
    {
     "name": "stdout",
     "output_type": "stream",
     "text": [
      "3206 27967558 42973992\n",
      "3130 20158643 42973992\n",
      "3066 22582764 42973992\n",
      "3044 21864412 51640390\n",
      "3021 17139850 51640390\n",
      "3010 14985079 51640390\n",
      "2970 17139850 21864412\n",
      "2913 20158643 27967558\n",
      "2903 22280814 51151280\n",
      "2870 23848749 51640390\n",
      "2855 20158643 22582764\n",
      "2849 20158643 44996025\n",
      "2846 22280814 42973992\n",
      "2784 21864412 23848749\n",
      "2779 31964081 51640390\n",
      "2776 39205988 51640390\n",
      "2754 17139850 23848749\n",
      "2749 22582764 27967558\n",
      "2728 50561859 51640390\n",
      "2724 15485897 51640390\n",
      "2700 28135661 42973992\n",
      "2655 22280814 27967558\n",
      "2653 42973992 43548989\n",
      "2639 26755857 51640390\n",
      "2621 14635589 51640390\n",
      "2608 15485897 17139850\n",
      "2606 17139850 26755857\n",
      "2601 21864412 39205988\n",
      "2600 8406745 51640390\n",
      "2599 37735419 51640390\n",
      "2597 20158643 28135661\n",
      "2585 21864412 31964081\n",
      "2585 40003405 42973992\n",
      "2581 27967558 43548989\n",
      "2579 23848749 31964081\n",
      "2578 15485897 21864412\n",
      "2578 27967558 28135661\n",
      "2577 42973992 64755069\n",
      "2574 51151280 57077210\n",
      "2573 20158643 43548989\n",
      "2566 21864412 26755857\n",
      "2564 22280814 64755069\n",
      "2561 42973992 44996025\n",
      "2556 17139850 39205988\n",
      "2543 23848749 39205988\n",
      "2521 17139850 31964081\n",
      "2515 27967558 44996025\n",
      "2506 41629539 51640390\n",
      "2505 51151280 64755069\n"
     ]
    }
   ],
   "source": [
    "for val in top50:\n",
    "    print '%s %s %s' % val"
   ]
  }
 ],
 "metadata": {
  "kernelspec": {
   "display_name": "Python 2",
   "language": "python",
   "name": "python2"
  },
  "language_info": {
   "codemirror_mode": {
    "name": "ipython",
    "version": 2
   },
   "file_extension": ".py",
   "mimetype": "text/x-python",
   "name": "python",
   "nbconvert_exporter": "python",
   "pygments_lexer": "ipython2",
   "version": "2.7.12"
  }
 },
 "nbformat": 4,
 "nbformat_minor": 2
}
